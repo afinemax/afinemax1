{
 "cells": [
  {
   "cell_type": "code",
   "execution_count": null,
   "metadata": {},
   "outputs": [],
   "source": [
    "def analyticv3(f, ban, phi, xi_knot, p):\n",
    "    \"alculates the average analytic solution to the channel polarization integral for 1 channel end\"\n",
    "    \n",
    "    funct1 = (a * np.exp(2.0j * phi * ((c/a)**2)))\n",
    "    funct2 = (c * np.sqrt((np.abs(phi)*np.pi)))\n",
    "    funct3 = (-1.0j + np.sign(phi))\n",
    "    funct4 = (sp.special.erf(np.sqrt(np.abs(phi)) * (c / a)*(-1.0j + np.sign(phi))))\n",
    "    funct5 = np.exp(2.0j*xi_knot)\n",
    "    ya = (funct1 + (funct2 * funct3 * funct4)) * funct5\n",
    "    \n",
    "    return ya\n",
    "\n",
    "def analytic_solutionv3(f, ban, phi, xi_knot, p):\n",
    "    '''Calculates the average analytic solution to the channel polarization integral for 1 channel\n",
    "    \n",
    "    Based on equation 13 of Schnitzeler & Lee (2015)\n",
    "    \n",
    "    \n",
    "    f = channel center frequency (in Hz)\n",
    "    ban = bandwidth (in Hz)\n",
    "    phi =  faraday depth value (in rad/m2)\n",
    "    xi_knot = initial polarization angle (in rad)\n",
    "    p = polarized intensity\n",
    "    \n",
    "    Returns:\n",
    "    avg_p_tilda = the average complex polarization, for the bandwidth, real is Q, imaginary is U\n",
    "    '''\n",
    "    a = f - (ban / 2)\n",
    "    b = f + (ban / 2) # integral start and stop values\n",
    "                   \n",
    "    ya =  analyticv3(a, phi, xi_knot)\n",
    "    yb =  analyticv3(b, phi, xi_knot)\n",
    "                     \n",
    "    i = yb - ya\n",
    "    avg_p_tilda = i / ban\n",
    "    \n",
    "    return avg_p_tilda\n",
    "\n"
   ]
  }
 ],
 "metadata": {
  "kernelspec": {
   "display_name": "Python 3",
   "language": "python",
   "name": "python3"
  },
  "language_info": {
   "codemirror_mode": {
    "name": "ipython",
    "version": 3
   },
   "file_extension": ".py",
   "mimetype": "text/x-python",
   "name": "python",
   "nbconvert_exporter": "python",
   "pygments_lexer": "ipython3",
   "version": "3.7.6"
  }
 },
 "nbformat": 4,
 "nbformat_minor": 4
}
